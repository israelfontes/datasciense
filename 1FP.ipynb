{
  "nbformat": 4,
  "nbformat_minor": 0,
  "metadata": {
    "colab": {
      "name": "1FP.ipynb",
      "provenance": [],
      "collapsed_sections": []
    },
    "kernelspec": {
      "name": "python3",
      "display_name": "Python 3"
    }
  },
  "cells": [
    {
      "cell_type": "markdown",
      "metadata": {
        "id": "HBU9DIq8azkp"
      },
      "source": [
        "#Importando as libs\n"
      ]
    },
    {
      "cell_type": "code",
      "metadata": {
        "id": "7SKAXywZfxNZ"
      },
      "source": [
        "import pandas as pd\n",
        "import matplotlib.pyplot as plt\n",
        "import pandas_profiling"
      ],
      "execution_count": 68,
      "outputs": []
    },
    {
      "cell_type": "markdown",
      "metadata": {
        "id": "HF3NfEona9Ry"
      },
      "source": [
        "#Importando o dataframe Mobility Report"
      ]
    },
    {
      "cell_type": "code",
      "metadata": {
        "id": "fycQ3AR-gAmW",
        "outputId": "9df9c6b3-213f-43fa-e28e-07aca1cce477",
        "colab": {
          "base_uri": "https://localhost:8080/",
          "height": 350
        }
      },
      "source": [
        "link = \"https://www.gstatic.com/covid19/mobility/Global_Mobility_Report.csv\"\n",
        "data = pd.read_csv(link)\n",
        "data.head()"
      ],
      "execution_count": 69,
      "outputs": [
        {
          "output_type": "stream",
          "text": [
            "/usr/local/lib/python3.6/dist-packages/IPython/core/interactiveshell.py:2718: DtypeWarning: Columns (4) have mixed types.Specify dtype option on import or set low_memory=False.\n",
            "  interactivity=interactivity, compiler=compiler, result=result)\n"
          ],
          "name": "stderr"
        },
        {
          "output_type": "execute_result",
          "data": {
            "text/html": [
              "<div>\n",
              "<style scoped>\n",
              "    .dataframe tbody tr th:only-of-type {\n",
              "        vertical-align: middle;\n",
              "    }\n",
              "\n",
              "    .dataframe tbody tr th {\n",
              "        vertical-align: top;\n",
              "    }\n",
              "\n",
              "    .dataframe thead th {\n",
              "        text-align: right;\n",
              "    }\n",
              "</style>\n",
              "<table border=\"1\" class=\"dataframe\">\n",
              "  <thead>\n",
              "    <tr style=\"text-align: right;\">\n",
              "      <th></th>\n",
              "      <th>country_region_code</th>\n",
              "      <th>country_region</th>\n",
              "      <th>sub_region_1</th>\n",
              "      <th>sub_region_2</th>\n",
              "      <th>metro_area</th>\n",
              "      <th>iso_3166_2_code</th>\n",
              "      <th>census_fips_code</th>\n",
              "      <th>date</th>\n",
              "      <th>retail_and_recreation_percent_change_from_baseline</th>\n",
              "      <th>grocery_and_pharmacy_percent_change_from_baseline</th>\n",
              "      <th>parks_percent_change_from_baseline</th>\n",
              "      <th>transit_stations_percent_change_from_baseline</th>\n",
              "      <th>workplaces_percent_change_from_baseline</th>\n",
              "      <th>residential_percent_change_from_baseline</th>\n",
              "    </tr>\n",
              "  </thead>\n",
              "  <tbody>\n",
              "    <tr>\n",
              "      <th>0</th>\n",
              "      <td>AE</td>\n",
              "      <td>United Arab Emirates</td>\n",
              "      <td>NaN</td>\n",
              "      <td>NaN</td>\n",
              "      <td>NaN</td>\n",
              "      <td>NaN</td>\n",
              "      <td>NaN</td>\n",
              "      <td>2020-02-15</td>\n",
              "      <td>0.0</td>\n",
              "      <td>4.0</td>\n",
              "      <td>5.0</td>\n",
              "      <td>0.0</td>\n",
              "      <td>2.0</td>\n",
              "      <td>1.0</td>\n",
              "    </tr>\n",
              "    <tr>\n",
              "      <th>1</th>\n",
              "      <td>AE</td>\n",
              "      <td>United Arab Emirates</td>\n",
              "      <td>NaN</td>\n",
              "      <td>NaN</td>\n",
              "      <td>NaN</td>\n",
              "      <td>NaN</td>\n",
              "      <td>NaN</td>\n",
              "      <td>2020-02-16</td>\n",
              "      <td>1.0</td>\n",
              "      <td>4.0</td>\n",
              "      <td>4.0</td>\n",
              "      <td>1.0</td>\n",
              "      <td>2.0</td>\n",
              "      <td>1.0</td>\n",
              "    </tr>\n",
              "    <tr>\n",
              "      <th>2</th>\n",
              "      <td>AE</td>\n",
              "      <td>United Arab Emirates</td>\n",
              "      <td>NaN</td>\n",
              "      <td>NaN</td>\n",
              "      <td>NaN</td>\n",
              "      <td>NaN</td>\n",
              "      <td>NaN</td>\n",
              "      <td>2020-02-17</td>\n",
              "      <td>-1.0</td>\n",
              "      <td>1.0</td>\n",
              "      <td>5.0</td>\n",
              "      <td>1.0</td>\n",
              "      <td>2.0</td>\n",
              "      <td>1.0</td>\n",
              "    </tr>\n",
              "    <tr>\n",
              "      <th>3</th>\n",
              "      <td>AE</td>\n",
              "      <td>United Arab Emirates</td>\n",
              "      <td>NaN</td>\n",
              "      <td>NaN</td>\n",
              "      <td>NaN</td>\n",
              "      <td>NaN</td>\n",
              "      <td>NaN</td>\n",
              "      <td>2020-02-18</td>\n",
              "      <td>-2.0</td>\n",
              "      <td>1.0</td>\n",
              "      <td>5.0</td>\n",
              "      <td>0.0</td>\n",
              "      <td>2.0</td>\n",
              "      <td>1.0</td>\n",
              "    </tr>\n",
              "    <tr>\n",
              "      <th>4</th>\n",
              "      <td>AE</td>\n",
              "      <td>United Arab Emirates</td>\n",
              "      <td>NaN</td>\n",
              "      <td>NaN</td>\n",
              "      <td>NaN</td>\n",
              "      <td>NaN</td>\n",
              "      <td>NaN</td>\n",
              "      <td>2020-02-19</td>\n",
              "      <td>-2.0</td>\n",
              "      <td>0.0</td>\n",
              "      <td>4.0</td>\n",
              "      <td>-1.0</td>\n",
              "      <td>2.0</td>\n",
              "      <td>1.0</td>\n",
              "    </tr>\n",
              "  </tbody>\n",
              "</table>\n",
              "</div>"
            ],
            "text/plain": [
              "  country_region_code  ... residential_percent_change_from_baseline\n",
              "0                  AE  ...                                      1.0\n",
              "1                  AE  ...                                      1.0\n",
              "2                  AE  ...                                      1.0\n",
              "3                  AE  ...                                      1.0\n",
              "4                  AE  ...                                      1.0\n",
              "\n",
              "[5 rows x 14 columns]"
            ]
          },
          "metadata": {
            "tags": []
          },
          "execution_count": 69
        }
      ]
    },
    {
      "cell_type": "markdown",
      "metadata": {
        "id": "LIYAQcmbbLON"
      },
      "source": [
        "#Selecionando o Brazil como região e as variáveis importantes\n"
      ]
    },
    {
      "cell_type": "code",
      "metadata": {
        "id": "UQAJHH-bgElm",
        "outputId": "c89efa17-888f-4799-9b88-9249c174e32d",
        "colab": {
          "base_uri": "https://localhost:8080/",
          "height": 206
        }
      },
      "source": [
        "data_of_br = data.loc[data.country_region == 'Brazil',:].iloc[:,[1,2,3,7,10]].copy()\n",
        "data_of_br.head()"
      ],
      "execution_count": 70,
      "outputs": [
        {
          "output_type": "execute_result",
          "data": {
            "text/html": [
              "<div>\n",
              "<style scoped>\n",
              "    .dataframe tbody tr th:only-of-type {\n",
              "        vertical-align: middle;\n",
              "    }\n",
              "\n",
              "    .dataframe tbody tr th {\n",
              "        vertical-align: top;\n",
              "    }\n",
              "\n",
              "    .dataframe thead th {\n",
              "        text-align: right;\n",
              "    }\n",
              "</style>\n",
              "<table border=\"1\" class=\"dataframe\">\n",
              "  <thead>\n",
              "    <tr style=\"text-align: right;\">\n",
              "      <th></th>\n",
              "      <th>country_region</th>\n",
              "      <th>sub_region_1</th>\n",
              "      <th>sub_region_2</th>\n",
              "      <th>date</th>\n",
              "      <th>parks_percent_change_from_baseline</th>\n",
              "    </tr>\n",
              "  </thead>\n",
              "  <tbody>\n",
              "    <tr>\n",
              "      <th>225008</th>\n",
              "      <td>Brazil</td>\n",
              "      <td>NaN</td>\n",
              "      <td>NaN</td>\n",
              "      <td>2020-02-15</td>\n",
              "      <td>-5.0</td>\n",
              "    </tr>\n",
              "    <tr>\n",
              "      <th>225009</th>\n",
              "      <td>Brazil</td>\n",
              "      <td>NaN</td>\n",
              "      <td>NaN</td>\n",
              "      <td>2020-02-16</td>\n",
              "      <td>-13.0</td>\n",
              "    </tr>\n",
              "    <tr>\n",
              "      <th>225010</th>\n",
              "      <td>Brazil</td>\n",
              "      <td>NaN</td>\n",
              "      <td>NaN</td>\n",
              "      <td>2020-02-17</td>\n",
              "      <td>-12.0</td>\n",
              "    </tr>\n",
              "    <tr>\n",
              "      <th>225011</th>\n",
              "      <td>Brazil</td>\n",
              "      <td>NaN</td>\n",
              "      <td>NaN</td>\n",
              "      <td>2020-02-18</td>\n",
              "      <td>-11.0</td>\n",
              "    </tr>\n",
              "    <tr>\n",
              "      <th>225012</th>\n",
              "      <td>Brazil</td>\n",
              "      <td>NaN</td>\n",
              "      <td>NaN</td>\n",
              "      <td>2020-02-19</td>\n",
              "      <td>-5.0</td>\n",
              "    </tr>\n",
              "  </tbody>\n",
              "</table>\n",
              "</div>"
            ],
            "text/plain": [
              "       country_region  ... parks_percent_change_from_baseline\n",
              "225008         Brazil  ...                               -5.0\n",
              "225009         Brazil  ...                              -13.0\n",
              "225010         Brazil  ...                              -12.0\n",
              "225011         Brazil  ...                              -11.0\n",
              "225012         Brazil  ...                               -5.0\n",
              "\n",
              "[5 rows x 5 columns]"
            ]
          },
          "metadata": {
            "tags": []
          },
          "execution_count": 70
        }
      ]
    },
    {
      "cell_type": "markdown",
      "metadata": {
        "id": "zW5NQGH6bxJa"
      },
      "source": [
        "#Limpando e organizando"
      ]
    },
    {
      "cell_type": "code",
      "metadata": {
        "id": "26u4TyzLjnZh"
      },
      "source": [
        "data_of_br.columns = ['country','state','city','date','parks']\n",
        "data_of_br.date = pd.to_datetime(data_of_br.date)\n",
        "data_of_br.index = data_of_br.date\n",
        "data_of_br.drop(labels='date',axis=1,inplace=True)\n",
        "data_of_br.state = data_of_br.state.str.replace(\"State of \",\"\")"
      ],
      "execution_count": 71,
      "outputs": []
    },
    {
      "cell_type": "markdown",
      "metadata": {
        "id": "HP6IFCaZb9vK"
      },
      "source": [
        "#Selecionando os estados nordestinos"
      ]
    },
    {
      "cell_type": "code",
      "metadata": {
        "id": "ev7T8rvvmxTG"
      },
      "source": [
        "states_of_northeast = ['Paraíba','Rio Grande do Norte', 'Ceará', 'Maranhão','Piauí', 'Bahia', 'Alagoas', 'Sergipe']\n",
        "data_of_northeast = data_of_br.loc[data_of_br.state.isin(states_of_northeast)]"
      ],
      "execution_count": 72,
      "outputs": []
    },
    {
      "cell_type": "code",
      "metadata": {
        "id": "8CBXkVZt3GgO"
      },
      "source": [
        "data_of_northeast = data_of_northeast[~data_of_northeast.state.isnull() & data_of_northeast.city.isnull() & ~data_of_northeast.parks.isnull()]"
      ],
      "execution_count": 73,
      "outputs": []
    },
    {
      "cell_type": "code",
      "metadata": {
        "id": "rH6OIKnGApJg"
      },
      "source": [
        "data_of_northeast_parks = data_of_northeast.groupby(by=[data_of_northeast.index,\"state\"]).mean().unstack()['parks'].rolling(window=7).mean()\n",
        "data_of_northeast_parks.dropna(axis=0,how='any',inplace = True)"
      ],
      "execution_count": 74,
      "outputs": []
    },
    {
      "cell_type": "markdown",
      "metadata": {
        "id": "aaiLe8KYcDi5"
      },
      "source": [
        "#Gerando a figura\n"
      ]
    },
    {
      "cell_type": "code",
      "metadata": {
        "id": "2SWXwhVX61Cr",
        "outputId": "cda5b67d-839c-49cb-ef72-90926789a46b",
        "colab": {
          "base_uri": "https://localhost:8080/",
          "height": 74
        }
      },
      "source": [
        "\n",
        "fig, ax = plt.subplots(nrows=2,ncols=4,figsize=(14,7.5))\n",
        "state = 0\n",
        "\n",
        "for i in range(0,2):\n",
        "  for ii in range(0,4):\n",
        "    data_of_northeast_parks.plot(legend=False,color=\"grey\",linewidth=1, alpha=0.4, ax=ax[i][ii])\n",
        "    data_of_northeast_parks[states_of_northeast[state]].plot(legend=False,color=\"blue\",linewidth=1.8, alpha=0.6, ax=ax[i][ii])\n",
        "    \n",
        "    #Ponto no inicio da pandemia\n",
        "    point_ini_x = data_of_northeast_parks.loc[data_of_northeast_parks['Bahia'].values == data_of_northeast_parks['Bahia'].min()].index[0]\n",
        "    point_ini_y = data_of_northeast_parks.loc[data_of_northeast_parks.index == point_ini_x][states_of_northeast[state]].values[0]\n",
        "\n",
        "    #Ponto no fim da pandemia\n",
        "    point_fin_x = data_of_northeast_parks.index[-1]\n",
        "    point_fin_y = data_of_northeast_parks.loc[data_of_northeast_parks.index == point_fin_x][states_of_northeast[state]].values[0]\n",
        "    \n",
        "    #Tamanho do tempo do inicio da pandemia até o ultimo registro no dataframe\n",
        "    arrow_x_length = dates.date2num(point_fin_x) - dates.date2num(point_ini_x)\n",
        "    #Tamanho da variação do inicio da pandemia até o ultimo registro no dataframe\n",
        "    arrow_y_length = abs(point_fin_y - point_ini_y)*(-1)+4\n",
        "    #Indices no inicio e ultimo registro do frame\n",
        "    ax[i][ii].annotate(str(int(point_ini_y)),(point_ini_x, point_ini_y),(dates.num2date(dates.date2num(point_ini_x)-20),point_ini_y-4))\n",
        "    ax[i][ii].annotate(str(int(point_fin_y)),(point_fin_x, point_fin_y),((dates.num2date(dates.date2num(point_fin_x)),point_fin_y+2)))\n",
        "    \n",
        "    #Porcentagem de variação inicio e fim\n",
        "    ax[i][ii].annotate(str(int(100-(point_fin_y*100)/point_ini_y))+'%',(point_fin_x, point_ini_y),((dates.num2date(dates.date2num(point_fin_x)-23),point_ini_y+2)), color='r',weight='bold')\n",
        "    #Linhas\n",
        "    ax[i][ii].arrow(point_ini_x, point_ini_y, arrow_x_length,0, ls='--', ec='black', head_width = 0.2, width=0.1)\n",
        "    ax[i][ii].arrow(point_fin_x, point_fin_y, 0, arrow_y_length, ec='red', head_width = 0.2, width=0.1, ls='--', head_length=4.5)\n",
        "    #Pontos inicio e fim\n",
        "    ax[i][ii].scatter(point_ini_x, point_ini_y, marker='o', color='blue')\n",
        "    ax[i][ii].scatter(point_fin_x, point_fin_y, marker='o', color='blue')\n",
        "   \n",
        "    #configurações do gráfico\n",
        "    ax[i][ii].set_title(states_of_northeast[state],fontsize=12,ha='center')\n",
        "    ax[i][ii].yaxis.grid(True)\n",
        "\n",
        "    ax[i][ii].set_xlabel(\"\")\n",
        "    ax[i][ii].spines['top'].set_visible(False)\n",
        "    ax[i][ii].spines['right'].set_visible(False)\n",
        "\n",
        "    ax[i][ii].spines['left'].set_visible(False)\n",
        "    ax[i][ii].set_xlim(right=dates.num2date(dates.date2num(point_fin_x)+5))\n",
        "    ax[i][ii].set_xticklabels([\"\",\"Mar\",\"Apr\",\"May\",\"Jun\",\"Jul\",\"Aug\"])\n",
        "    ax[i][ii].xaxis.set_tick_params(labelsize=8)\n",
        "    ax[i][ii].yaxis.set_tick_params(labelsize=8)\n",
        "    \n",
        "    if (i==0 and ii==0 or i==0 and ii==3 or i==1 and ii==3 or i==1 and ii==0):\n",
        "      ax[i][ii].yaxis.tick_right()\n",
        "    else:\n",
        "      ax[i][ii].set_yticklabels([])\n",
        "    state += 1\n",
        "\n",
        "plt.tight_layout()\n",
        "plt.savefig(\"states.png\",dpi=300)\n",
        "plt.show()"
      ],
      "execution_count": 75,
      "outputs": [
        {
          "output_type": "stream",
          "text": [
            "/usr/local/lib/python3.6/dist-packages/ipykernel_launcher.py:2: RuntimeWarning: More than 20 figures have been opened. Figures created through the pyplot interface (`matplotlib.pyplot.figure`) are retained until explicitly closed and may consume too much memory. (To control this warning, see the rcParam `figure.max_open_warning`).\n",
            "  \n"
          ],
          "name": "stderr"
        }
      ]
    },
    {
      "cell_type": "markdown",
      "metadata": {
        "id": "qoW_82i9p1Bp"
      },
      "source": [
        ""
      ]
    },
    {
      "cell_type": "code",
      "metadata": {
        "id": "hgJ_YGyw63Cb"
      },
      "source": [
        ""
      ],
      "execution_count": null,
      "outputs": []
    }
  ]
}