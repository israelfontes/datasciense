{
  "nbformat": 4,
  "nbformat_minor": 0,
  "metadata": {
    "colab": {
      "name": "1FP2.ipynb",
      "provenance": []
    },
    "kernelspec": {
      "name": "python3",
      "display_name": "Python 3"
    }
  },
  "cells": [
    {
      "cell_type": "markdown",
      "metadata": {
        "id": "aXUGqTnGMPXh"
      },
      "source": [
        "#Extraindo os dados"
      ]
    },
    {
      "cell_type": "code",
      "metadata": {
        "id": "R1GPVsk5RojA",
        "outputId": "d189bfa2-425d-4a39-a7a2-bb0823b1417d",
        "colab": {
          "base_uri": "https://localhost:8080/",
          "height": 256
        }
      },
      "source": [
        "!unzip data_discentes_ufrn.zip"
      ],
      "execution_count": 2,
      "outputs": [
        {
          "output_type": "stream",
          "text": [
            "Archive:  data_discentes_ufrn.zip\n",
            "   creating: data_discentes_ufrn/\n",
            "  inflating: data_discentes_ufrn/discentes-2010.csv  \n",
            "  inflating: data_discentes_ufrn/discentes-2011.csv  \n",
            "  inflating: data_discentes_ufrn/discentes-2012.csv  \n",
            "  inflating: data_discentes_ufrn/discentes-2013.csv  \n",
            "  inflating: data_discentes_ufrn/discentes-2014.csv  \n",
            "  inflating: data_discentes_ufrn/discentes-2015.csv  \n",
            "  inflating: data_discentes_ufrn/discentes-2016.csv  \n",
            "  inflating: data_discentes_ufrn/discentes-2017.csv  \n",
            "  inflating: data_discentes_ufrn/discentes-2018.csv  \n",
            "  inflating: data_discentes_ufrn/discentes-2019.csv  \n",
            "  inflating: data_discentes_ufrn/discentes-2020.csv  \n"
          ],
          "name": "stdout"
        }
      ]
    },
    {
      "cell_type": "markdown",
      "metadata": {
        "id": "-nHwj3qyMbDA"
      },
      "source": [
        "#Importando as libs"
      ]
    },
    {
      "cell_type": "code",
      "metadata": {
        "id": "Jjl1kI70AH4u"
      },
      "source": [
        "import pandas as pd\n",
        "import matplotlib.pyplot as plt\n",
        "import numpy as np"
      ],
      "execution_count": 3,
      "outputs": []
    },
    {
      "cell_type": "markdown",
      "metadata": {
        "id": "IEvLBP94Mh6n"
      },
      "source": [
        "#Lendo os aquivos e contacatenando em apenas um dataframe"
      ]
    },
    {
      "cell_type": "code",
      "metadata": {
        "id": "zDLkqI-QAMz6"
      },
      "source": [
        "data = pd.read_csv('data_discentes_ufrn/discentes-2010.csv',sep=';',usecols=[3,4,7,9,11])\n",
        "\n",
        "for i in range(2011,2021):\n",
        "  data = pd.concat([pd.read_csv('data_discentes_ufrn/discentes-'+str(i)+'.csv',sep=';',usecols=[3,4,7,9,11]),data],axis=0,ignore_index=True)"
      ],
      "execution_count": 29,
      "outputs": []
    },
    {
      "cell_type": "code",
      "metadata": {
        "id": "RMuq3xdkAc2B",
        "outputId": "b477ccad-20ef-48a4-b313-e12a9463c102",
        "colab": {
          "base_uri": "https://localhost:8080/",
          "height": 206
        }
      },
      "source": [
        "data.head()"
      ],
      "execution_count": 30,
      "outputs": [
        {
          "output_type": "execute_result",
          "data": {
            "text/html": [
              "<div>\n",
              "<style scoped>\n",
              "    .dataframe tbody tr th:only-of-type {\n",
              "        vertical-align: middle;\n",
              "    }\n",
              "\n",
              "    .dataframe tbody tr th {\n",
              "        vertical-align: top;\n",
              "    }\n",
              "\n",
              "    .dataframe thead th {\n",
              "        text-align: right;\n",
              "    }\n",
              "</style>\n",
              "<table border=\"1\" class=\"dataframe\">\n",
              "  <thead>\n",
              "    <tr style=\"text-align: right;\">\n",
              "      <th></th>\n",
              "      <th>ano_ingresso</th>\n",
              "      <th>periodo_ingresso</th>\n",
              "      <th>status</th>\n",
              "      <th>nivel_ensino</th>\n",
              "      <th>nome_curso</th>\n",
              "    </tr>\n",
              "  </thead>\n",
              "  <tbody>\n",
              "    <tr>\n",
              "      <th>0</th>\n",
              "      <td>2020</td>\n",
              "      <td>1.0</td>\n",
              "      <td>ATIVO</td>\n",
              "      <td>TÉCNICO</td>\n",
              "      <td>CURSO TÉCNICO DA METRÓPOLE DIGITAL</td>\n",
              "    </tr>\n",
              "    <tr>\n",
              "      <th>1</th>\n",
              "      <td>2020</td>\n",
              "      <td>2.0</td>\n",
              "      <td>CADASTRADO</td>\n",
              "      <td>GRADUAÇÃO</td>\n",
              "      <td>CIÊNCIAS E TECNOLOGIA</td>\n",
              "    </tr>\n",
              "    <tr>\n",
              "      <th>2</th>\n",
              "      <td>2020</td>\n",
              "      <td>1.0</td>\n",
              "      <td>ATIVO</td>\n",
              "      <td>GRADUAÇÃO</td>\n",
              "      <td>ENGENHARIA AGRONÔMICA</td>\n",
              "    </tr>\n",
              "    <tr>\n",
              "      <th>3</th>\n",
              "      <td>2020</td>\n",
              "      <td>2.0</td>\n",
              "      <td>CADASTRADO</td>\n",
              "      <td>GRADUAÇÃO</td>\n",
              "      <td>CIÊNCIAS E TECNOLOGIA</td>\n",
              "    </tr>\n",
              "    <tr>\n",
              "      <th>4</th>\n",
              "      <td>2020</td>\n",
              "      <td>1.0</td>\n",
              "      <td>ATIVO</td>\n",
              "      <td>GRADUAÇÃO</td>\n",
              "      <td>ENGENHARIA MECÂNICA</td>\n",
              "    </tr>\n",
              "  </tbody>\n",
              "</table>\n",
              "</div>"
            ],
            "text/plain": [
              "   ano_ingresso  ...                          nome_curso\n",
              "0          2020  ...  CURSO TÉCNICO DA METRÓPOLE DIGITAL\n",
              "1          2020  ...               CIÊNCIAS E TECNOLOGIA\n",
              "2          2020  ...               ENGENHARIA AGRONÔMICA\n",
              "3          2020  ...               CIÊNCIAS E TECNOLOGIA\n",
              "4          2020  ...                 ENGENHARIA MECÂNICA\n",
              "\n",
              "[5 rows x 5 columns]"
            ]
          },
          "metadata": {
            "tags": []
          },
          "execution_count": 30
        }
      ]
    },
    {
      "cell_type": "markdown",
      "metadata": {
        "id": "SWDmQq50M2uX"
      },
      "source": [
        "#Alterando os labels da coluna Status"
      ]
    },
    {
      "cell_type": "code",
      "metadata": {
        "id": "Idquwj91e5Yq"
      },
      "source": [
        "def change_status(label):\n",
        "  if label == 'CANCELADO':\n",
        "    return 'DESVINCULADO'\n",
        "  else:\n",
        "    return 'VINCULADO/CONCLUIDO'"
      ],
      "execution_count": 31,
      "outputs": []
    },
    {
      "cell_type": "code",
      "metadata": {
        "id": "C3Tt_zERfn9Q"
      },
      "source": [
        "data.status = data.status.apply(change_status)"
      ],
      "execution_count": 32,
      "outputs": []
    },
    {
      "cell_type": "markdown",
      "metadata": {
        "id": "5CVq3i3tNBI8"
      },
      "source": [
        "#Agrupando\n",
        "Agrupando por nome do curso, ano de ingresso, status do aluno e nível de ensino"
      ]
    },
    {
      "cell_type": "code",
      "metadata": {
        "id": "CGAt1hZBgXD_"
      },
      "source": [
        "groupred = data[['nome_curso','ano_ingresso','status','nivel_ensino']].groupby(['nome_curso','ano_ingresso','status','nivel_ensino'])"
      ],
      "execution_count": 76,
      "outputs": []
    },
    {
      "cell_type": "code",
      "metadata": {
        "id": "MozbCA2b2yDM",
        "outputId": "4f3c17ce-e6c3-4267-e4a7-4158cfe602ed",
        "colab": {
          "base_uri": "https://localhost:8080/",
          "height": 424
        }
      },
      "source": [
        "groupred.head()"
      ],
      "execution_count": 77,
      "outputs": [
        {
          "output_type": "execute_result",
          "data": {
            "text/html": [
              "<div>\n",
              "<style scoped>\n",
              "    .dataframe tbody tr th:only-of-type {\n",
              "        vertical-align: middle;\n",
              "    }\n",
              "\n",
              "    .dataframe tbody tr th {\n",
              "        vertical-align: top;\n",
              "    }\n",
              "\n",
              "    .dataframe thead th {\n",
              "        text-align: right;\n",
              "    }\n",
              "</style>\n",
              "<table border=\"1\" class=\"dataframe\">\n",
              "  <thead>\n",
              "    <tr style=\"text-align: right;\">\n",
              "      <th></th>\n",
              "      <th>nome_curso</th>\n",
              "      <th>ano_ingresso</th>\n",
              "      <th>status</th>\n",
              "      <th>nivel_ensino</th>\n",
              "    </tr>\n",
              "  </thead>\n",
              "  <tbody>\n",
              "    <tr>\n",
              "      <th>0</th>\n",
              "      <td>CURSO TÉCNICO DA METRÓPOLE DIGITAL</td>\n",
              "      <td>2020</td>\n",
              "      <td>VINCULADO/CONCLUIDO</td>\n",
              "      <td>TÉCNICO</td>\n",
              "    </tr>\n",
              "    <tr>\n",
              "      <th>1</th>\n",
              "      <td>CIÊNCIAS E TECNOLOGIA</td>\n",
              "      <td>2020</td>\n",
              "      <td>VINCULADO/CONCLUIDO</td>\n",
              "      <td>GRADUAÇÃO</td>\n",
              "    </tr>\n",
              "    <tr>\n",
              "      <th>2</th>\n",
              "      <td>ENGENHARIA AGRONÔMICA</td>\n",
              "      <td>2020</td>\n",
              "      <td>VINCULADO/CONCLUIDO</td>\n",
              "      <td>GRADUAÇÃO</td>\n",
              "    </tr>\n",
              "    <tr>\n",
              "      <th>3</th>\n",
              "      <td>CIÊNCIAS E TECNOLOGIA</td>\n",
              "      <td>2020</td>\n",
              "      <td>VINCULADO/CONCLUIDO</td>\n",
              "      <td>GRADUAÇÃO</td>\n",
              "    </tr>\n",
              "    <tr>\n",
              "      <th>4</th>\n",
              "      <td>ENGENHARIA MECÂNICA</td>\n",
              "      <td>2020</td>\n",
              "      <td>VINCULADO/CONCLUIDO</td>\n",
              "      <td>GRADUAÇÃO</td>\n",
              "    </tr>\n",
              "    <tr>\n",
              "      <th>...</th>\n",
              "      <td>...</td>\n",
              "      <td>...</td>\n",
              "      <td>...</td>\n",
              "      <td>...</td>\n",
              "    </tr>\n",
              "    <tr>\n",
              "      <th>200763</th>\n",
              "      <td>TECNICO EM AGROPECUARIA SUBSEQUENTE</td>\n",
              "      <td>2010</td>\n",
              "      <td>DESVINCULADO</td>\n",
              "      <td>TÉCNICO</td>\n",
              "    </tr>\n",
              "    <tr>\n",
              "      <th>200852</th>\n",
              "      <td>ESPECIALIZAÇÃO EM EDUCAÇÃO MUSICAL NA EDUCAÇÃO...</td>\n",
              "      <td>2010</td>\n",
              "      <td>VINCULADO/CONCLUIDO</td>\n",
              "      <td>LATO SENSU</td>\n",
              "    </tr>\n",
              "    <tr>\n",
              "      <th>200963</th>\n",
              "      <td>MESTRADO EM ADMINISTRAÇÃO</td>\n",
              "      <td>2010</td>\n",
              "      <td>DESVINCULADO</td>\n",
              "      <td>MESTRADO</td>\n",
              "    </tr>\n",
              "    <tr>\n",
              "      <th>200999</th>\n",
              "      <td>MESTRADO EM ADMINISTRAÇÃO</td>\n",
              "      <td>2010</td>\n",
              "      <td>DESVINCULADO</td>\n",
              "      <td>MESTRADO</td>\n",
              "    </tr>\n",
              "    <tr>\n",
              "      <th>201014</th>\n",
              "      <td>LETRAS - LÍNGUA PORTUGUESA</td>\n",
              "      <td>2010</td>\n",
              "      <td>VINCULADO/CONCLUIDO</td>\n",
              "      <td>GRADUAÇÃO</td>\n",
              "    </tr>\n",
              "  </tbody>\n",
              "</table>\n",
              "<p>23001 rows × 4 columns</p>\n",
              "</div>"
            ],
            "text/plain": [
              "                                               nome_curso  ...  nivel_ensino\n",
              "0                      CURSO TÉCNICO DA METRÓPOLE DIGITAL  ...       TÉCNICO\n",
              "1                                   CIÊNCIAS E TECNOLOGIA  ...     GRADUAÇÃO\n",
              "2                                   ENGENHARIA AGRONÔMICA  ...     GRADUAÇÃO\n",
              "3                                   CIÊNCIAS E TECNOLOGIA  ...     GRADUAÇÃO\n",
              "4                                     ENGENHARIA MECÂNICA  ...     GRADUAÇÃO\n",
              "...                                                   ...  ...           ...\n",
              "200763                TECNICO EM AGROPECUARIA SUBSEQUENTE  ...       TÉCNICO\n",
              "200852  ESPECIALIZAÇÃO EM EDUCAÇÃO MUSICAL NA EDUCAÇÃO...  ...    LATO SENSU\n",
              "200963                          MESTRADO EM ADMINISTRAÇÃO  ...      MESTRADO\n",
              "200999                          MESTRADO EM ADMINISTRAÇÃO  ...      MESTRADO\n",
              "201014                         LETRAS - LÍNGUA PORTUGUESA  ...     GRADUAÇÃO\n",
              "\n",
              "[23001 rows x 4 columns]"
            ]
          },
          "metadata": {
            "tags": []
          },
          "execution_count": 77
        }
      ]
    },
    {
      "cell_type": "code",
      "metadata": {
        "id": "RYfapFY12zfd"
      },
      "source": [
        "group_data = groupred['status'].count().to_frame(name='soma_status').reset_index()"
      ],
      "execution_count": 106,
      "outputs": []
    },
    {
      "cell_type": "markdown",
      "metadata": {
        "id": "Oz_8TCvhNLuD"
      },
      "source": [
        "#Agrupando novamente e realizando a soma dos status\n",
        "Reagrupando apenas os cursos de graduação por nome e status e somando o total de status agrupados"
      ]
    },
    {
      "cell_type": "code",
      "metadata": {
        "id": "YHuxertS9UWq"
      },
      "source": [
        "g = group_data.loc[group_data.nivel_ensino == 'GRADUAÇÃO'].groupby(['nome_curso','status']).sum().reset_index()"
      ],
      "execution_count": 113,
      "outputs": []
    },
    {
      "cell_type": "code",
      "metadata": {
        "id": "ouKa_bvwiAN7",
        "outputId": "57d40703-cb65-43b0-e0a1-75c22daef985",
        "colab": {
          "base_uri": "https://localhost:8080/",
          "height": 424
        }
      },
      "source": [
        "g"
      ],
      "execution_count": 114,
      "outputs": [
        {
          "output_type": "execute_result",
          "data": {
            "text/html": [
              "<div>\n",
              "<style scoped>\n",
              "    .dataframe tbody tr th:only-of-type {\n",
              "        vertical-align: middle;\n",
              "    }\n",
              "\n",
              "    .dataframe tbody tr th {\n",
              "        vertical-align: top;\n",
              "    }\n",
              "\n",
              "    .dataframe thead th {\n",
              "        text-align: right;\n",
              "    }\n",
              "</style>\n",
              "<table border=\"1\" class=\"dataframe\">\n",
              "  <thead>\n",
              "    <tr style=\"text-align: right;\">\n",
              "      <th></th>\n",
              "      <th>nome_curso</th>\n",
              "      <th>status</th>\n",
              "      <th>ano_ingresso</th>\n",
              "      <th>soma_status</th>\n",
              "    </tr>\n",
              "  </thead>\n",
              "  <tbody>\n",
              "    <tr>\n",
              "      <th>0</th>\n",
              "      <td>ADMINISTRAÇÃO</td>\n",
              "      <td>DESVINCULADO</td>\n",
              "      <td>22165</td>\n",
              "      <td>864</td>\n",
              "    </tr>\n",
              "    <tr>\n",
              "      <th>1</th>\n",
              "      <td>ADMINISTRAÇÃO</td>\n",
              "      <td>VINCULADO/CONCLUIDO</td>\n",
              "      <td>22165</td>\n",
              "      <td>2093</td>\n",
              "    </tr>\n",
              "    <tr>\n",
              "      <th>2</th>\n",
              "      <td>ADMINISTRAÇÃO PÚBLICA</td>\n",
              "      <td>DESVINCULADO</td>\n",
              "      <td>10071</td>\n",
              "      <td>632</td>\n",
              "    </tr>\n",
              "    <tr>\n",
              "      <th>3</th>\n",
              "      <td>ADMINISTRAÇÃO PÚBLICA</td>\n",
              "      <td>VINCULADO/CONCLUIDO</td>\n",
              "      <td>10068</td>\n",
              "      <td>591</td>\n",
              "    </tr>\n",
              "    <tr>\n",
              "      <th>4</th>\n",
              "      <td>ANÁLISE E DESENVOLVIMENTO DE SISTEMAS</td>\n",
              "      <td>DESVINCULADO</td>\n",
              "      <td>16132</td>\n",
              "      <td>128</td>\n",
              "    </tr>\n",
              "    <tr>\n",
              "      <th>...</th>\n",
              "      <td>...</td>\n",
              "      <td>...</td>\n",
              "      <td>...</td>\n",
              "      <td>...</td>\n",
              "    </tr>\n",
              "    <tr>\n",
              "      <th>160</th>\n",
              "      <td>TECNOLOGIA DA INFORMAÇÃO</td>\n",
              "      <td>VINCULADO/CONCLUIDO</td>\n",
              "      <td>16132</td>\n",
              "      <td>1564</td>\n",
              "    </tr>\n",
              "    <tr>\n",
              "      <th>161</th>\n",
              "      <td>TURISMO</td>\n",
              "      <td>DESVINCULADO</td>\n",
              "      <td>22165</td>\n",
              "      <td>574</td>\n",
              "    </tr>\n",
              "    <tr>\n",
              "      <th>162</th>\n",
              "      <td>TURISMO</td>\n",
              "      <td>VINCULADO/CONCLUIDO</td>\n",
              "      <td>22165</td>\n",
              "      <td>779</td>\n",
              "    </tr>\n",
              "    <tr>\n",
              "      <th>163</th>\n",
              "      <td>ZOOTECNIA</td>\n",
              "      <td>DESVINCULADO</td>\n",
              "      <td>22165</td>\n",
              "      <td>276</td>\n",
              "    </tr>\n",
              "    <tr>\n",
              "      <th>164</th>\n",
              "      <td>ZOOTECNIA</td>\n",
              "      <td>VINCULADO/CONCLUIDO</td>\n",
              "      <td>22165</td>\n",
              "      <td>251</td>\n",
              "    </tr>\n",
              "  </tbody>\n",
              "</table>\n",
              "<p>165 rows × 4 columns</p>\n",
              "</div>"
            ],
            "text/plain": [
              "                                nome_curso  ... soma_status\n",
              "0                            ADMINISTRAÇÃO  ...         864\n",
              "1                            ADMINISTRAÇÃO  ...        2093\n",
              "2                    ADMINISTRAÇÃO PÚBLICA  ...         632\n",
              "3                    ADMINISTRAÇÃO PÚBLICA  ...         591\n",
              "4    ANÁLISE E DESENVOLVIMENTO DE SISTEMAS  ...         128\n",
              "..                                     ...  ...         ...\n",
              "160               TECNOLOGIA DA INFORMAÇÃO  ...        1564\n",
              "161                                TURISMO  ...         574\n",
              "162                                TURISMO  ...         779\n",
              "163                              ZOOTECNIA  ...         276\n",
              "164                              ZOOTECNIA  ...         251\n",
              "\n",
              "[165 rows x 4 columns]"
            ]
          },
          "metadata": {
            "tags": []
          },
          "execution_count": 114
        }
      ]
    },
    {
      "cell_type": "markdown",
      "metadata": {
        "id": "XzmCrr9gNWQ2"
      },
      "source": [
        "#Calculando porcentagem de cada status por curso"
      ]
    },
    {
      "cell_type": "code",
      "metadata": {
        "id": "Iyvmjtr73OHi"
      },
      "source": [
        "percent = []\n",
        "for curso in g.nome_curso.unique():\n",
        "  soma = g.loc[g.nome_curso == curso].soma_status.sum()\n",
        "  for s_status in g.loc[g.nome_curso == curso].soma_status:\n",
        "      percent.append((100/soma)*s_status)\n",
        "\n",
        "g['percent'] = percent"
      ],
      "execution_count": 118,
      "outputs": []
    },
    {
      "cell_type": "code",
      "metadata": {
        "id": "I3Yal7BmP-Ga",
        "outputId": "27d1785a-04f4-40d5-d65d-667051e57012",
        "colab": {
          "base_uri": "https://localhost:8080/",
          "height": 424
        }
      },
      "source": [
        "g"
      ],
      "execution_count": 119,
      "outputs": [
        {
          "output_type": "execute_result",
          "data": {
            "text/html": [
              "<div>\n",
              "<style scoped>\n",
              "    .dataframe tbody tr th:only-of-type {\n",
              "        vertical-align: middle;\n",
              "    }\n",
              "\n",
              "    .dataframe tbody tr th {\n",
              "        vertical-align: top;\n",
              "    }\n",
              "\n",
              "    .dataframe thead th {\n",
              "        text-align: right;\n",
              "    }\n",
              "</style>\n",
              "<table border=\"1\" class=\"dataframe\">\n",
              "  <thead>\n",
              "    <tr style=\"text-align: right;\">\n",
              "      <th></th>\n",
              "      <th>nome_curso</th>\n",
              "      <th>status</th>\n",
              "      <th>ano_ingresso</th>\n",
              "      <th>soma_status</th>\n",
              "      <th>percent</th>\n",
              "    </tr>\n",
              "  </thead>\n",
              "  <tbody>\n",
              "    <tr>\n",
              "      <th>0</th>\n",
              "      <td>ADMINISTRAÇÃO</td>\n",
              "      <td>DESVINCULADO</td>\n",
              "      <td>22165</td>\n",
              "      <td>864</td>\n",
              "      <td>29.218803</td>\n",
              "    </tr>\n",
              "    <tr>\n",
              "      <th>1</th>\n",
              "      <td>ADMINISTRAÇÃO</td>\n",
              "      <td>VINCULADO/CONCLUIDO</td>\n",
              "      <td>22165</td>\n",
              "      <td>2093</td>\n",
              "      <td>70.781197</td>\n",
              "    </tr>\n",
              "    <tr>\n",
              "      <th>2</th>\n",
              "      <td>ADMINISTRAÇÃO PÚBLICA</td>\n",
              "      <td>DESVINCULADO</td>\n",
              "      <td>10071</td>\n",
              "      <td>632</td>\n",
              "      <td>51.676206</td>\n",
              "    </tr>\n",
              "    <tr>\n",
              "      <th>3</th>\n",
              "      <td>ADMINISTRAÇÃO PÚBLICA</td>\n",
              "      <td>VINCULADO/CONCLUIDO</td>\n",
              "      <td>10068</td>\n",
              "      <td>591</td>\n",
              "      <td>48.323794</td>\n",
              "    </tr>\n",
              "    <tr>\n",
              "      <th>4</th>\n",
              "      <td>ANÁLISE E DESENVOLVIMENTO DE SISTEMAS</td>\n",
              "      <td>DESVINCULADO</td>\n",
              "      <td>16132</td>\n",
              "      <td>128</td>\n",
              "      <td>47.761194</td>\n",
              "    </tr>\n",
              "    <tr>\n",
              "      <th>...</th>\n",
              "      <td>...</td>\n",
              "      <td>...</td>\n",
              "      <td>...</td>\n",
              "      <td>...</td>\n",
              "      <td>...</td>\n",
              "    </tr>\n",
              "    <tr>\n",
              "      <th>160</th>\n",
              "      <td>TECNOLOGIA DA INFORMAÇÃO</td>\n",
              "      <td>VINCULADO/CONCLUIDO</td>\n",
              "      <td>16132</td>\n",
              "      <td>1564</td>\n",
              "      <td>60.714286</td>\n",
              "    </tr>\n",
              "    <tr>\n",
              "      <th>161</th>\n",
              "      <td>TURISMO</td>\n",
              "      <td>DESVINCULADO</td>\n",
              "      <td>22165</td>\n",
              "      <td>574</td>\n",
              "      <td>42.424242</td>\n",
              "    </tr>\n",
              "    <tr>\n",
              "      <th>162</th>\n",
              "      <td>TURISMO</td>\n",
              "      <td>VINCULADO/CONCLUIDO</td>\n",
              "      <td>22165</td>\n",
              "      <td>779</td>\n",
              "      <td>57.575758</td>\n",
              "    </tr>\n",
              "    <tr>\n",
              "      <th>163</th>\n",
              "      <td>ZOOTECNIA</td>\n",
              "      <td>DESVINCULADO</td>\n",
              "      <td>22165</td>\n",
              "      <td>276</td>\n",
              "      <td>52.371917</td>\n",
              "    </tr>\n",
              "    <tr>\n",
              "      <th>164</th>\n",
              "      <td>ZOOTECNIA</td>\n",
              "      <td>VINCULADO/CONCLUIDO</td>\n",
              "      <td>22165</td>\n",
              "      <td>251</td>\n",
              "      <td>47.628083</td>\n",
              "    </tr>\n",
              "  </tbody>\n",
              "</table>\n",
              "<p>165 rows × 5 columns</p>\n",
              "</div>"
            ],
            "text/plain": [
              "                                nome_curso  ...    percent\n",
              "0                            ADMINISTRAÇÃO  ...  29.218803\n",
              "1                            ADMINISTRAÇÃO  ...  70.781197\n",
              "2                    ADMINISTRAÇÃO PÚBLICA  ...  51.676206\n",
              "3                    ADMINISTRAÇÃO PÚBLICA  ...  48.323794\n",
              "4    ANÁLISE E DESENVOLVIMENTO DE SISTEMAS  ...  47.761194\n",
              "..                                     ...  ...        ...\n",
              "160               TECNOLOGIA DA INFORMAÇÃO  ...  60.714286\n",
              "161                                TURISMO  ...  42.424242\n",
              "162                                TURISMO  ...  57.575758\n",
              "163                              ZOOTECNIA  ...  52.371917\n",
              "164                              ZOOTECNIA  ...  47.628083\n",
              "\n",
              "[165 rows x 5 columns]"
            ]
          },
          "metadata": {
            "tags": []
          },
          "execution_count": 119
        }
      ]
    },
    {
      "cell_type": "code",
      "metadata": {
        "id": "Fano1hDZgjkc"
      },
      "source": [
        "desvinculados = g.loc[g.ano_ingresso == 22165].loc[g.status == 'DESISTENTE/JUBILADO'].sort_values(by='percent',ascending=False)"
      ],
      "execution_count": 162,
      "outputs": []
    },
    {
      "cell_type": "code",
      "metadata": {
        "id": "spI8d5zUOZlh",
        "outputId": "f33b9a75-f246-4908-9f6d-f97de664499e",
        "colab": {
          "base_uri": "https://localhost:8080/",
          "height": 487
        }
      },
      "source": [
        "\n",
        "plt.rcdefaults()\n",
        "fig, ax = plt.subplots()\n",
        "\n",
        "y_pos = np.arange(len(desvinculados.head(5)))\n",
        "ax.barh(y_pos, desvinculados.head(5).percent, align='center')\n",
        "ax.set_yticks(y_pos)\n",
        "ax.set_yticklabels(desvinculados.head(5).nome_curso)\n",
        "ax.invert_yaxis()\n",
        "ax.set_xlim(right=100)\n",
        "for i,ii in enumerate(desvinculados.head(5).percent):\n",
        "  ax.annotate(xy=(ii+1,i),s=str('%.1f'%ii)+'%')\n",
        "ax.set_xlabel('Porcentagem de desistentes/jubilados')\n",
        "ax.set_xticklabels(['0%','20%','40%','60%','80%','100%'])\n",
        "#ax.set_title('Cursos de graduação da UFRN com maior índice de desistentes/jubilados nos últimos 10 anos',fontsize=9)\n",
        "\n",
        "plt.tight_layout()\n",
        "plt.savefig(\"graph.png\",dpi=300)"
      ],
      "execution_count": 170,
      "outputs": [
        {
          "output_type": "display_data",
          "data": {
            "image/png": "[encoded data removed]",
            "text/plain": [
              "<Figure size 640x480 with 1 Axes>"
            ]
          },
          "metadata": {
            "tags": []
          }
        }
      ]
    },
    {
      "cell_type": "code",
      "metadata": {
        "id": "C8y3DuqNbi60"
      },
      "source": [
        ""
      ],
      "execution_count": null,
      "outputs": []
    }
  ]
}